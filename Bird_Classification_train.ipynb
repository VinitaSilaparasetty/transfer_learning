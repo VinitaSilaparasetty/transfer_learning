{
  "nbformat": 4,
  "nbformat_minor": 0,
  "metadata": {
    "accelerator": "GPU",
    "colab": {
      "name": "Bird_Classification_train.ipynb",
      "provenance": [],
      "collapsed_sections": []
    },
    "kernelspec": {
      "display_name": "Python 3",
      "language": "python",
      "name": "python3"
    },
    "language_info": {
      "codemirror_mode": {
        "name": "ipython",
        "version": 3
      },
      "file_extension": ".py",
      "mimetype": "text/x-python",
      "name": "python",
      "nbconvert_exporter": "python",
      "pygments_lexer": "ipython3",
      "version": "3.6.4"
    }
  },
  "cells": [
    {
      "cell_type": "code",
      "metadata": {
        "colab": {
          "base_uri": "https://localhost:8080/"
        },
        "id": "0n__isPr2jCe",
        "outputId": "da29a828-84de-41f7-8466-9c1617763c70"
      },
      "source": [
        "!pip install vit_keras"
      ],
      "execution_count": 1,
      "outputs": [
        {
          "output_type": "stream",
          "text": [
            "Requirement already satisfied: vit_keras in /usr/local/lib/python3.7/dist-packages (0.0.13)\n",
            "Requirement already satisfied: scipy in /usr/local/lib/python3.7/dist-packages (from vit_keras) (1.4.1)\n",
            "Requirement already satisfied: validators in /usr/local/lib/python3.7/dist-packages (from vit_keras) (0.18.2)\n",
            "Requirement already satisfied: tensorflow-addons in /usr/local/lib/python3.7/dist-packages (from vit_keras) (0.12.1)\n",
            "Requirement already satisfied: numpy>=1.13.3 in /usr/local/lib/python3.7/dist-packages (from scipy->vit_keras) (1.19.5)\n",
            "Requirement already satisfied: six>=1.4.0 in /usr/local/lib/python3.7/dist-packages (from validators->vit_keras) (1.15.0)\n",
            "Requirement already satisfied: decorator>=3.4.0 in /usr/local/lib/python3.7/dist-packages (from validators->vit_keras) (4.4.2)\n",
            "Requirement already satisfied: typeguard>=2.7 in /usr/local/lib/python3.7/dist-packages (from tensorflow-addons->vit_keras) (2.7.1)\n"
          ],
          "name": "stdout"
        }
      ]
    },
    {
      "cell_type": "code",
      "metadata": {
        "id": "k-7zJ49s2oop"
      },
      "source": [
        "import tensorflow as tf\r\n",
        "from tensorflow.keras import backend, optimizers\r\n",
        "from tensorflow.keras.models import Sequential\r\n",
        "from tensorflow.keras.layers import GaussianNoise, Dense\r\n",
        "from tensorflow.keras.callbacks import EarlyStopping, ModelCheckpoint, TensorBoard, LearningRateScheduler\r\n",
        "from tensorflow.keras.preprocessing.image import ImageDataGenerator\r\n",
        "from tensorflow import keras\r\n",
        "import keras\r\n",
        "\r\n",
        "from vit_keras import vit"
      ],
      "execution_count": 2,
      "outputs": []
    },
    {
      "cell_type": "code",
      "metadata": {
        "colab": {
          "base_uri": "https://localhost:8080/"
        },
        "id": "yu7gCBnluuCe",
        "outputId": "18f1b045-de48-4c2d-80d6-98e2fcea2ac5"
      },
      "source": [
        "from google.colab import drive\n",
        "drive.mount('/content/drive')"
      ],
      "execution_count": 3,
      "outputs": [
        {
          "output_type": "stream",
          "text": [
            "Drive already mounted at /content/drive; to attempt to forcibly remount, call drive.mount(\"/content/drive\", force_remount=True).\n"
          ],
          "name": "stdout"
        }
      ]
    },
    {
      "cell_type": "code",
      "metadata": {
        "id": "eKdi8kVbxioc"
      },
      "source": [
        "train_directory='/content/drive/MyDrive/deep learning/Birddata/train'\r\n",
        "val_directory='/content/drive/MyDrive/deep learning/Birddata/valid'\r\n",
        "test_directory='/content/drive/MyDrive/deep learning/Birddata/test'"
      ],
      "execution_count": 4,
      "outputs": []
    },
    {
      "cell_type": "code",
      "metadata": {
        "id": "0Uqyff3jGnBu"
      },
      "source": [
        "tf.random.set_seed(1234) #set seed to reproduce same results"
      ],
      "execution_count": 5,
      "outputs": []
    },
    {
      "cell_type": "code",
      "metadata": {
        "colab": {
          "base_uri": "https://localhost:8080/"
        },
        "id": "iTKUJL6zD3qI",
        "outputId": "2f297926-d41f-43b9-d489-788b318c7bfc"
      },
      "source": [
        "# Data augmentation\r\n",
        "train_datagen = ImageDataGenerator(\r\n",
        "    rescale=1/255,\r\n",
        "    horizontal_flip=True,\r\n",
        "    rotation_range=15,\r\n",
        "    zoom_range=0.1,\r\n",
        ")\r\n",
        "valid_datagen = ImageDataGenerator(rescale=1/255)\r\n",
        "test_datagen = ImageDataGenerator(rescale=1/255)\r\n",
        "\r\n",
        "train_generator = train_datagen.flow_from_directory(\r\n",
        "    train_directory,\r\n",
        "    target_size=(224, 224),\r\n",
        "    batch_size=32,\r\n",
        "    color_mode='rgb',\r\n",
        "    class_mode='sparse',\r\n",
        "    shuffle=True,\r\n",
        ")\r\n",
        "validation_generator = valid_datagen.flow_from_directory(\r\n",
        "    val_directory,\r\n",
        "    target_size=(224, 224),\r\n",
        "    batch_size=32,\r\n",
        "    color_mode='rgb',\r\n",
        "    class_mode='sparse')\r\n",
        "\r\n",
        "test_generator = test_datagen.flow_from_directory(\r\n",
        "    test_directory,\r\n",
        "    target_size=(224, 224),\r\n",
        "    color_mode='rgb',\r\n",
        "    class_mode='sparse')"
      ],
      "execution_count": 6,
      "outputs": [
        {
          "output_type": "stream",
          "text": [
            "Found 35216 images belonging to 250 classes.\n",
            "Found 1250 images belonging to 250 classes.\n",
            "Found 1250 images belonging to 250 classes.\n"
          ],
          "name": "stdout"
        }
      ]
    },
    {
      "cell_type": "code",
      "metadata": {
        "colab": {
          "base_uri": "https://localhost:8080/"
        },
        "id": "wikPNDCnD0XQ",
        "outputId": "0b87b959-e5c8-4f3f-9eaa-f44eb89a8e35"
      },
      "source": [
        "backend.clear_session()\r\n",
        "\r\n",
        "vit_model = vit.vit_l32(\r\n",
        "    image_size=224,\r\n",
        "    pretrained=True,\r\n",
        "    include_top=False,\r\n",
        "    pretrained_top=False\r\n",
        ")\r\n",
        "\r\n",
        "print(len(vit_model.layers))\r\n",
        "print(vit_model.layers)"
      ],
      "execution_count": 7,
      "outputs": [
        {
          "output_type": "stream",
          "text": [
            "/usr/local/lib/python3.7/dist-packages/vit_keras/utils.py:79: UserWarning: Resizing position embeddings from 12 to 7\n",
            "  UserWarning,\n"
          ],
          "name": "stderr"
        },
        {
          "output_type": "stream",
          "text": [
            "31\n",
            "[<tensorflow.python.keras.engine.input_layer.InputLayer object at 0x7fc88485a690>, <tensorflow.python.keras.layers.convolutional.Conv2D object at 0x7fc8842051d0>, <tensorflow.python.keras.layers.core.Reshape object at 0x7fc886cdd790>, <vit_keras.layers.ClassToken object at 0x7fc8847a1cd0>, <vit_keras.layers.AddPositionEmbs object at 0x7fc884846dd0>, <vit_keras.layers.TransformerBlock object at 0x7fc8848462d0>, <vit_keras.layers.TransformerBlock object at 0x7fc8705e72d0>, <vit_keras.layers.TransformerBlock object at 0x7fc8705c3f10>, <vit_keras.layers.TransformerBlock object at 0x7fc8704f0d10>, <vit_keras.layers.TransformerBlock object at 0x7fc8704acd90>, <vit_keras.layers.TransformerBlock object at 0x7fc87048f150>, <vit_keras.layers.TransformerBlock object at 0x7fc8703e0850>, <vit_keras.layers.TransformerBlock object at 0x7fc8702f94d0>, <vit_keras.layers.TransformerBlock object at 0x7fc8702c8050>, <vit_keras.layers.TransformerBlock object at 0x7fc87023bf90>, <vit_keras.layers.TransformerBlock object at 0x7fc87026c210>, <vit_keras.layers.TransformerBlock object at 0x7fc87011b050>, <vit_keras.layers.TransformerBlock object at 0x7fc8701c1410>, <vit_keras.layers.TransformerBlock object at 0x7fc8700da9d0>, <vit_keras.layers.TransformerBlock object at 0x7fc870110c90>, <vit_keras.layers.TransformerBlock object at 0x7fc82c009710>, <vit_keras.layers.TransformerBlock object at 0x7fc81d785e90>, <vit_keras.layers.TransformerBlock object at 0x7fc81d7ae910>, <vit_keras.layers.TransformerBlock object at 0x7fc81d6873d0>, <vit_keras.layers.TransformerBlock object at 0x7fc870063190>, <vit_keras.layers.TransformerBlock object at 0x7fc81d5c8110>, <vit_keras.layers.TransformerBlock object at 0x7fc81d583150>, <vit_keras.layers.TransformerBlock object at 0x7fc81d52c4d0>, <vit_keras.layers.TransformerBlock object at 0x7fc81d530bd0>, <tensorflow.python.keras.layers.normalization.LayerNormalization object at 0x7fc81d43c9d0>, <tensorflow.python.keras.layers.core.Lambda object at 0x7fc81d51b050>]\n"
          ],
          "name": "stdout"
        }
      ]
    },
    {
      "cell_type": "code",
      "metadata": {
        "id": "yRT7ytXkDxjd"
      },
      "source": [
        "# Delay lr\r\n",
        "def scheduler(epoch: int, lr: float) -> float:\r\n",
        "    if epoch != 0 and epoch % 7 == 0:\r\n",
        "        return lr * 0.1\r\n",
        "    else:\r\n",
        "        return lr\r\n",
        "lr_scheduler_callback = LearningRateScheduler(scheduler)"
      ],
      "execution_count": 8,
      "outputs": []
    },
    {
      "cell_type": "code",
      "metadata": {
        "id": "sAeLCOGBDuH9"
      },
      "source": [
        "finetune_at = 28\r\n",
        "\r\n",
        "# fine-tuning\r\n",
        "for layer in vit_model.layers[:finetune_at - 1]:\r\n",
        "    layer.trainable = False\r\n",
        "\r\n",
        "num_classes = len(validation_generator.class_indices)\r\n",
        "\r\n",
        "# Add GaussianNoise layer for robustness\r\n",
        "noise = GaussianNoise(0.01, input_shape=(224, 224, 3))"
      ],
      "execution_count": 9,
      "outputs": []
    },
    {
      "cell_type": "code",
      "metadata": {
        "id": "pApjnFFTL8NB"
      },
      "source": [
        "#add layers\r\n",
        "# Classification head\r\n",
        "head = Dense(num_classes, activation=\"softmax\")\r\n",
        "model = Sequential()\r\n",
        "model.add(noise)\r\n",
        "model.add(vit_model)\r\n",
        "model.add(head)"
      ],
      "execution_count": 10,
      "outputs": []
    },
    {
      "cell_type": "code",
      "metadata": {
        "id": "0hx9t4DbL_kT"
      },
      "source": [
        "#compile the model\r\n",
        "model.compile(optimizer=optimizers.Adam(),\r\n",
        "               loss=\"sparse_categorical_crossentropy\",\r\n",
        "               metrics=[\"accuracy\"])"
      ],
      "execution_count": 11,
      "outputs": []
    },
    {
      "cell_type": "code",
      "metadata": {
        "id": "kvDAQhtlMBxd"
      },
      "source": [
        "#train the model\r\n",
        "tf.random.set_seed(100)\r\n",
        "                      \r\n",
        "history = model.fit(\r\n",
        "          train_generator,\r\n",
        "          epochs=50,\r\n",
        "          validation_data=validation_generator,\r\n",
        "          verbose=1, \r\n",
        "          shuffle=True,\r\n",
        "          callbacks=[\r\n",
        "              EarlyStopping(monitor=\"val_accuracy\", patience=10, restore_best_weights=True),\r\n",
        "              lr_scheduler_callback,\r\n",
        "          ])"
      ],
      "execution_count": null,
      "outputs": []
    },
    {
      "cell_type": "code",
      "metadata": {
        "id": "wp8KenNADlll"
      },
      "source": [
        "#save model\r\n",
        "#from keras.models import load_model\r\n",
        "#tf.keras.models.save_model(filepath='/content/drive/MyDrive/deep learning/bird models/vit_new',model=model)"
      ],
      "execution_count": null,
      "outputs": []
    }
  ]
}